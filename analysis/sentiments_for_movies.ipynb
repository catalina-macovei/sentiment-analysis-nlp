{
 "cells": [
  {
   "cell_type": "code",
   "id": "initial_id",
   "metadata": {
    "collapsed": true,
    "ExecuteTime": {
     "end_time": "2025-04-07T11:11:29.769904Z",
     "start_time": "2025-04-07T11:11:29.683420Z"
    }
   },
   "source": [
    "import pandas as pd\n",
    "\n",
    "data = pd.read_csv('../data/imdb_reviews.csv')"
   ],
   "outputs": [],
   "execution_count": 4
  },
  {
   "metadata": {
    "ExecuteTime": {
     "end_time": "2025-04-07T11:12:27.627813Z",
     "start_time": "2025-04-07T11:12:27.622697Z"
    }
   },
   "cell_type": "code",
   "source": "print(data.head())",
   "id": "e3868626c5398adf",
   "outputs": [
    {
     "name": "stdout",
     "output_type": "stream",
     "text": [
      "   Unnamed: 0                                             review  label\n",
      "0       18245  This short spoof can be found on Elite's Mille...      0\n",
      "1       19801  A singularly unfunny musical comedy that artif...      0\n",
      "2        3222  An excellent series, masterfully acted and dir...      1\n",
      "3        6010  The master of movie spectacle Cecil B. De Mill...      1\n",
      "4       16355  I was gifted with this movie as it had such a ...      0\n"
     ]
    }
   ],
   "execution_count": 5
  }
 ],
 "metadata": {
  "kernelspec": {
   "display_name": "Python 3",
   "language": "python",
   "name": "python3"
  },
  "language_info": {
   "codemirror_mode": {
    "name": "ipython",
    "version": 2
   },
   "file_extension": ".py",
   "mimetype": "text/x-python",
   "name": "python",
   "nbconvert_exporter": "python",
   "pygments_lexer": "ipython2",
   "version": "2.7.6"
  }
 },
 "nbformat": 4,
 "nbformat_minor": 5
}
